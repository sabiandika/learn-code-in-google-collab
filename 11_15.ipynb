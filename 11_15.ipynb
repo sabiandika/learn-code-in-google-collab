{
  "nbformat": 4,
  "nbformat_minor": 0,
  "metadata": {
    "colab": {
      "provenance": [],
      "authorship_tag": "ABX9TyNNK74/LenHKKPV+w6uVWQS",
      "include_colab_link": true
    },
    "kernelspec": {
      "name": "python3",
      "display_name": "Python 3"
    },
    "language_info": {
      "name": "python"
    }
  },
  "cells": [
    {
      "cell_type": "markdown",
      "metadata": {
        "id": "view-in-github",
        "colab_type": "text"
      },
      "source": [
        "<a href=\"https://colab.research.google.com/github/sabiandika/learn-code-in-google-collab/blob/main/11_15.ipynb\" target=\"_parent\"><img src=\"https://colab.research.google.com/assets/colab-badge.svg\" alt=\"Open In Colab\"/></a>"
      ]
    },
    {
      "cell_type": "code",
      "execution_count": 10,
      "metadata": {
        "id": "EA9k_Znr0fi-",
        "colab": {
          "base_uri": "https://localhost:8080/"
        },
        "outputId": "77c8dfa2-966a-4c91-c234-a77d04c255f3"
      },
      "outputs": [
        {
          "output_type": "stream",
          "name": "stdout",
          "text": [
            "pilih pengoperasian\n",
            "1. Tambah\n",
            "2. Kurang\n",
            "3. Kali\n",
            "4. Bagi\n",
            "5. Exit\n",
            "Masukkan pilihan pengoperasian dari no (1 - 5): 4\n",
            "Masukkan bilangan pertama: 3\n",
            "Masukkan bilangan kedua: 0\n",
            "Bilangan 3 tidak dapat dibagi dengan 0\n",
            "pilih pengoperasian\n",
            "1. Tambah\n",
            "2. Kurang\n",
            "3. Kali\n",
            "4. Bagi\n",
            "5. Exit\n",
            "Masukkan pilihan pengoperasian dari no (1 - 5): 2\n",
            "Masukkan bilangan pertama: 5\n",
            "Masukkan bilangan kedua: 4\n",
            "Hasil:  1\n",
            "pilih pengoperasian\n",
            "1. Tambah\n",
            "2. Kurang\n",
            "3. Kali\n",
            "4. Bagi\n",
            "5. Exit\n",
            "Masukkan pilihan pengoperasian dari no (1 - 5): 3\n",
            "Masukkan bilangan pertama: 8\n",
            "Masukkan bilangan kedua: 9\n",
            "Hasil:  72\n",
            "pilih pengoperasian\n",
            "1. Tambah\n",
            "2. Kurang\n",
            "3. Kali\n",
            "4. Bagi\n",
            "5. Exit\n",
            "Masukkan pilihan pengoperasian dari no (1 - 5): 1\n",
            "Masukkan bilangan pertama: 1231231\n",
            "Masukkan bilangan kedua: 3232\n",
            "Hasil:  1234463\n",
            "pilih pengoperasian\n",
            "1. Tambah\n",
            "2. Kurang\n",
            "3. Kali\n",
            "4. Bagi\n",
            "5. Exit\n",
            "Masukkan pilihan pengoperasian dari no (1 - 5): 5\n",
            "Program selesai\n"
          ]
        }
      ],
      "source": [
        "def tambah(x, y):\n",
        "  return x + y\n",
        "\n",
        "def kurang(x, y):\n",
        "  return x - y\n",
        "\n",
        "def kali(x, y):\n",
        "  return x * y\n",
        "\n",
        "def bagi(x, y):\n",
        "  if y == 0:\n",
        "    raise ZeroDivisionError(f\"Bilangan {x} tidak dapat dibagi dengan 0\")\n",
        "  return x / y\n",
        "\n",
        "def show_menu():\n",
        "  print(\"pilih pengoperasian\")\n",
        "  print(\"1. Tambah\")\n",
        "  print(\"2. Kurang\")\n",
        "  print(\"3. Kali\")\n",
        "  print(\"4. Bagi\")\n",
        "  print(\"5. Exit\")\n",
        "\n",
        "while True:\n",
        "  show_menu()\n",
        "  choice = input(\"Masukkan pilihan pengoperasian dari no (1 - 5): \")\n",
        "\n",
        "  if choice == \"5\":\n",
        "    print(\"Program selesai\")\n",
        "    break\n",
        "\n",
        "  try:\n",
        "    num1 = int(input(\"Masukkan bilangan pertama: \"))\n",
        "    num2 = int(input(\"Masukkan bilangan kedua: \"))\n",
        "\n",
        "    if choice == \"1\":\n",
        "      print(\"Hasil: \", tambah(num1,num2))\n",
        "    elif choice == \"2\":\n",
        "      print(\"Hasil: \", kurang(num1,num2))\n",
        "    elif choice == \"3\":\n",
        "      print(\"Hasil: \", kali(num1,num2))\n",
        "    elif choice == \"4\":\n",
        "      print(\"Hasil: \", bagi(num1,num2))\n",
        "    else:\n",
        "      print(\"pilihan tersebut tidak tersedia\")\n",
        "\n",
        "  except ValueError:\n",
        "    print(\"input tidak bisa, tolong input angka yang valid\")\n",
        "  except ZeroDivisionError as l:\n",
        "    print(l)\n",
        ""
      ]
    },
    {
      "cell_type": "code",
      "source": [],
      "metadata": {
        "id": "YWKyVPnn21G2"
      },
      "execution_count": null,
      "outputs": []
    }
  ]
}