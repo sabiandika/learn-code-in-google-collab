{
  "cells": [
    {
      "cell_type": "markdown",
      "metadata": {
        "id": "view-in-github",
        "colab_type": "text"
      },
      "source": [
        "<a href=\"https://colab.research.google.com/github/sabiandika/learn-code-in-google-collab/blob/main/Untitled0.ipynb\" target=\"_parent\"><img src=\"https://colab.research.google.com/assets/colab-badge.svg\" alt=\"Open In Colab\"/></a>"
      ]
    },
    {
      "cell_type": "code",
      "execution_count": null,
      "metadata": {
        "colab": {
          "base_uri": "https://localhost:8080/"
        },
        "id": "p-TbMA6XWnfE",
        "outputId": "357998f1-c953-4924-8dbf-9567252f47a1"
      },
      "outputs": [
        {
          "name": "stdout",
          "output_type": "stream",
          "text": [
            "1\n",
            "2\n",
            "3\n",
            "4\n",
            "5\n",
            "6\n",
            "7\n",
            "8\n"
          ]
        }
      ],
      "source": [
        "count = 0\n",
        "while count < 8:\n",
        "    count += 1\n",
        "    print(count)"
      ]
    },
    {
      "cell_type": "code",
      "execution_count": null,
      "metadata": {
        "colab": {
          "base_uri": "https://localhost:8080/"
        },
        "id": "l9x2Ax81WlRO",
        "outputId": "d32fdf62-9dce-4432-eb07-606744b94142"
      },
      "outputs": [
        {
          "name": "stdout",
          "output_type": "stream",
          "text": [
            "AKU\n",
            "KAMU\n",
            "DIA\n",
            "ANDA\n"
          ]
        }
      ],
      "source": [
        "untuk = [\"AKU\",\"KAMU\",\"DIA\",\"ANDA\"]\n",
        "for game in untuk:\n",
        "    print(game)"
      ]
    },
    {
      "cell_type": "markdown",
      "metadata": {
        "id": "vbWb1UPjZm9I"
      },
      "source": []
    },
    {
      "cell_type": "code",
      "execution_count": null,
      "metadata": {
        "colab": {
          "base_uri": "https://localhost:8080/"
        },
        "id": "tEdK9T9rk_Rr",
        "outputId": "75720f15-e16c-417e-c2a6-df6c6875391a"
      },
      "outputs": [
        {
          "name": "stdout",
          "output_type": "stream",
          "text": [
            "6\n",
            "whats your name buddy? sabian\n",
            "hallo sabian welcome in indonesia\n"
          ]
        }
      ],
      "source": [
        "print(3+3)\n",
        "name = input(\"whats your name buddy? \")\n",
        "print(f\"hallo {name} welcome in indonesia\")"
      ]
    },
    {
      "cell_type": "code",
      "execution_count": null,
      "metadata": {
        "colab": {
          "background_save": true,
          "base_uri": "https://localhost:8080/"
        },
        "id": "xCPCumEMmg0c",
        "outputId": "571e53fe-f37c-4e4a-8d53-b059cc6b6223"
      },
      "outputs": [
        {
          "name": "stdout",
          "output_type": "stream",
          "text": [
            "pilih perhitungan\n",
            "1. pertambahan \n",
            "2. pengurangan \n",
            "3. perkalian \n",
            "4. pengurangan\n",
            "1 pertambahan 2 pengurangan 3 perkalian 4 pembagian\n",
            "kamu memilih 1\n"
          ]
        }
      ],
      "source": [
        "print(\"pilih perhitungan\")\n",
        "print(\"1. pertambahan \\n2. pengurangan \\n3. perkalian \\n4. pengurangan\")\n",
        "pilihan = input(print(\"1 pertambahan 2 pengurangan 3 perkalian 4 pembagian\"))\n",
        "print(f\"kamu memilih {pilihan}\")\n",
        "\n",
        "#input number\n",
        "number1 = int(input(\"Enter your first number \"))\n",
        "number2 = int(input(\"Enter your second number \"))\n",
        "\n",
        "if pilihan == \"1\":\n",
        "      tambah = number1 + number2\n",
        "      print(f\"Hasil tambah dari {number1} + {number2} = {tambah}\")\n",
        "\n",
        "elif pilihan == \"2\":\n",
        "      kurang = number1 - number2\n",
        "      print(f\"Hasil kurang dari {number1} - {number2} = {kurang}\")\n",
        "\n",
        "elif pilihan == \"3\":\n",
        "      kali = number1 * number2\n",
        "      print(f\"Hasil kali dari {number1} x {number2} = {kali}\")\n",
        "\n",
        "elif pilihan == \"4\":\n",
        "      pagi = number1 / number2 if number2 != 0 else \"gabisa dibagi 0\"\n",
        "      print(f\"Hasil bagi dari {number1} : {number2} = {pagi}\")\n",
        "\n",
        "else:\n",
        "      print(\"pilihan tidak tersedia\")"
      ]
    },
    {
      "cell_type": "code",
      "execution_count": null,
      "metadata": {
        "colab": {
          "base_uri": "https://localhost:8080/"
        },
        "id": "EStNc0MMk966",
        "outputId": "c2220c2a-a20b-4c3e-f671-7d8123de6cf7"
      },
      "outputs": [
        {
          "name": "stdout",
          "output_type": "stream",
          "text": [
            "what is your name? adfa\n",
            "what is your age? 12\n",
            "what's your favoirt team in f1?ferrari\n",
            "\n",
            "\n",
            "Hello my name sabian, you are a adfa?\n",
            "i think you can join pitsop if your age is 19, btw what's your age 12?\n",
            "you really like ferrari, we have tha same choice, i like ferrari too\n"
          ]
        }
      ],
      "source": [
        "name = input(\"what is your name? \")\n",
        "age = input(\"what is your age? \")\n",
        "like = input(\"what's your favoirt team in f1?\")\n",
        "\n",
        "print(\"\\n\")\n",
        "print(f\"Hello my name sabian, you are a {name}?\")\n",
        "print(f\"i think you can join pitsop if your age is 19, btw what's your age {age}?\")\n",
        "print(f\"you really like {like}, we have tha same choice, i like {like} too\")"
      ]
    },
    {
      "cell_type": "code",
      "source": [
        "# bandingin nomer\n",
        "num1 = float(input(\"enter your first number: \"))\n",
        "num2 = float(input(\"enter your second number: \"))\n",
        "\n",
        "if num1 > num2:\n",
        "  print(f\"{num1} lebih besar dari {num2}\")\n",
        "elif num1 < num2:\n",
        "  print(f\"{num1} lebih kecil dari {num2}\")\n",
        "else:\n",
        "  print(f\"{num1} sama dengan {num2}\")\n",
        "\n",
        "if num1 == 0 and num2 == 0:\n",
        "  print(f\"kedua bilangan tersebut adalah nol\")\n",
        "elif num1 == 0 or num2 == 0:\n",
        "  print(f\"salah satu bilangan ada bilangan nol\")\n",
        "else:\n",
        "  print(f\"dua bilangan tersebut  tidak ada angka nol\")"
      ],
      "metadata": {
        "colab": {
          "base_uri": "https://localhost:8080/"
        },
        "id": "7A3D47jmRy-r",
        "outputId": "fabafdf9-d96e-4ef8-d83b-ad7f1f491f65"
      },
      "execution_count": null,
      "outputs": [
        {
          "output_type": "stream",
          "name": "stdout",
          "text": [
            "enter your first number: 10\n",
            "enter your second number: 0\n",
            "10.0 lebih besar dari 0.0\n",
            "salah satu bilangan ada bilangan nol\n"
          ]
        }
      ]
    },
    {
      "cell_type": "code",
      "source": [
        "variable = \"ini adalah variable\"\n",
        "print(variable.find('variable'))"
      ],
      "metadata": {
        "colab": {
          "base_uri": "https://localhost:8080/"
        },
        "id": "M5eUZzYnY5si",
        "outputId": "f41806e6-0c48-49f2-b510-82840c5e6285"
      },
      "execution_count": null,
      "outputs": [
        {
          "output_type": "stream",
          "name": "stdout",
          "text": [
            "11\n"
          ]
        }
      ]
    },
    {
      "cell_type": "code",
      "source": [
        "  def hitung(a, b):\n",
        "    print(f\"hasil pejulahan dari {a} + {b} = {a + b}\")\n",
        "\n",
        "  a = int(input(\"Masukkan angka pertama: \"))\n",
        "  b = int(input(\"Masukkkan angka ke dua: \"))\n",
        "\n",
        "  hitung(a, b)\n",
        "\n",
        "\n"
      ],
      "metadata": {
        "id": "vKikOlsqWzuc",
        "colab": {
          "base_uri": "https://localhost:8080/"
        },
        "outputId": "5b8c6102-250e-4259-b26a-d67c55928335"
      },
      "execution_count": null,
      "outputs": [
        {
          "output_type": "stream",
          "name": "stdout",
          "text": [
            "Masukkan angka pertama: 3\n",
            "Masukkkan angka ke dua: 4\n",
            "hasil pejulahan dari 3 + 4 = 7\n"
          ]
        }
      ]
    },
    {
      "cell_type": "code",
      "source": [
        "import random\n",
        "\n",
        "def hitung():\n",
        "  num1 = random.randint(1, 10)\n",
        "  num2 = random.randint(1,10)\n",
        "  operator = random.choice([\"+\", \"-\", \"*\"])\n",
        "\n",
        "  if operator == \"+\":\n",
        "    hasil = num1 + num2\n",
        "  elif operator == \"-\":\n",
        "    hasil = num1 - num2\n",
        "  else:\n",
        "    hasil = num1 * num2\n",
        "\n",
        "  return f\"{num1} {operator} {num2}\", hasil\n",
        "\n",
        "def quiz():\n",
        "  score = 0\n",
        "  rounds = 5\n",
        "\n",
        "  print(\"Selamat datang di games matematika\")\n",
        "  for i in range(rounds):\n",
        "    question, correct_answer = hitung()\n",
        "    print(f\"\\npertanyaan {i + 1}: {question}\")\n",
        "    user_answer = int(input(\"Masukkan jawaban mu: \"))\n",
        "\n",
        "    if user_answer == correct_answer:\n",
        "      print(\"Jawabanmu benar\")\n",
        "      score += 1\n",
        "    else:\n",
        "      print(f\"Jawabanmu salah! Jawaban yang benar adalah {correct_answer}\")\n",
        "\n",
        "\n",
        "    print(f\"kamu mendapatkan score: {score}/{rounds}\")\n",
        "\n",
        "quiz()"
      ],
      "metadata": {
        "id": "YhLQujH3ZCle",
        "colab": {
          "base_uri": "https://localhost:8080/"
        },
        "outputId": "bd0e389d-80bd-4a54-afdf-bfb5d71e8ee5"
      },
      "execution_count": null,
      "outputs": [
        {
          "output_type": "stream",
          "name": "stdout",
          "text": [
            "Selamat datang di games matematika\n",
            "\n",
            "pertanyaan 1: 3 * 10\n",
            "Masukkan jawaban mu: 2\n",
            "Jawabanmu salah! Jawaban yang benar adalah 30\n",
            "kamu mendapatkan score: 0/5\n",
            "\n",
            "pertanyaan 2: 4 * 2\n",
            "Masukkan jawaban mu: 34\n",
            "Jawabanmu salah! Jawaban yang benar adalah 8\n",
            "kamu mendapatkan score: 0/5\n",
            "\n",
            "pertanyaan 3: 5 - 7\n",
            "Masukkan jawaban mu: 4\n",
            "Jawabanmu salah! Jawaban yang benar adalah -2\n",
            "kamu mendapatkan score: 0/5\n",
            "\n",
            "pertanyaan 4: 5 - 3\n",
            "Masukkan jawaban mu: 5\n",
            "Jawabanmu salah! Jawaban yang benar adalah 2\n",
            "kamu mendapatkan score: 0/5\n",
            "\n",
            "pertanyaan 5: 3 * 2\n",
            "Masukkan jawaban mu: 3\n",
            "Jawabanmu salah! Jawaban yang benar adalah 6\n",
            "kamu mendapatkan score: 0/5\n"
          ]
        }
      ]
    },
    {
      "cell_type": "code",
      "source": [
        "shopping_list = []\n",
        "\n",
        "def menu():\n",
        "  print(\"Pilih menu pada aplikasi\")\n",
        "  print(\"1. liat daftar belanja\")\n",
        "  print(\"2. add an item\")\n",
        "  print(\"3. remove an item\")\n",
        "  print(\"4. clear list\")\n",
        "  print(\"5. Exit\")\n",
        "\n",
        "while True:\n",
        "  menu()\n",
        "  choice = input(\"pilih menu: (1-5): \").strip()\n",
        "\n",
        "  if choice == \"1\":\n",
        "    print(\"\\n---shoppping list---\")\n",
        "    if not shopping_list:\n",
        "      print(\"Daftar belanjamu kosong\")\n",
        "    else:\n",
        "      for index, item in enumerate(shopping_list):\n",
        "        print(f\"{index + 1}. {item}\")\n",
        "        print(\"\\n\")\n",
        "\n",
        "  elif choice == \"2\":\n",
        "    item = input(\"masukkan daftar belanjaanmu: \")\n",
        "    shopping_list.append(item)\n",
        "    print(f\"{item} telah ditambahkan ke daftar belanjaanmu\")\n",
        "\n",
        "  elif choice ==\"3\":\n",
        "    item = input(\"Masukkan dafatar belanjaan yang ingin kamu hapus: \")\n",
        "    if item in shopping_list:\n",
        "      shopping_list.remove(item)\n",
        "      print(f\"{item} Sudah di hapus dari daftar belanjaanmu\")\n",
        "    else:\n",
        "      print(f\"{item} barnag tersebut tidakl ada pada daftar belanjaanmu\")\n",
        "\n",
        "  elif choice == \"4\":\n",
        "    shopping_list.clear()\n",
        "    print(\"Daftar belanjaanmu sudah bersih\")\n",
        "\n",
        "  elif choice == \"5\":\n",
        "    print(\"terimakasih sudah menggunakan aplikasi kami\")\n",
        "    break\n",
        "\n",
        "  else:\n",
        "    print(\"pilihan tersebut tidak tersedia\")\n",
        "\n"
      ],
      "metadata": {
        "id": "x8Jo0ah_ZC1W",
        "colab": {
          "base_uri": "https://localhost:8080/"
        },
        "outputId": "3ccccb66-2727-4f3b-c1ef-7db1ed8c8773"
      },
      "execution_count": null,
      "outputs": [
        {
          "output_type": "stream",
          "name": "stdout",
          "text": [
            "Pilih menu pada aplikasi\n",
            "1. liat daftar belanja\n",
            "2. add an item\n",
            "3. remove an item\n",
            "4. clear list\n",
            "5. Exit\n",
            "pilih menu: (1-5): 2\n",
            "masukkan daftar belanjaanmu: 5\n",
            "5 telah ditambahkan ke daftar belanjaanmu\n",
            "Pilih menu pada aplikasi\n",
            "1. liat daftar belanja\n",
            "2. add an item\n",
            "3. remove an item\n",
            "4. clear list\n",
            "5. Exit\n",
            "pilih menu: (1-5): 5\n",
            "terimakasih sudah menggunakan aplikasi kami\n"
          ]
        }
      ]
    },
    {
      "cell_type": "code",
      "source": [
        "# KONTAK\n",
        "contacts = {}\n",
        "\n",
        "# MENU KONTAK\n",
        "def show_menu():\n",
        "  print(\"1. Add Contact\")\n",
        "  print(\"2. View Contacts\")\n",
        "  print(\"3. Search Contacts\")\n",
        "  print(\"4. Edit Contacts\")\n",
        "  print(\"5. Delete Contacts\")\n",
        "  print(\"6. EXit\")\n",
        "\n",
        "# INPUT KONTAK\n",
        "def add_contact():\n",
        "  name = input(\"Enter the name: \")\n",
        "  phone = input(\"Enter the number phone: \")\n",
        "  email = input(\"Enter the email: \")\n",
        "  contacts[name] = {\"phone\" : phone, \"email\" : email}\n",
        "  print(f\"{name} berhasil ditambahkan ke kontak\")\n",
        "\n",
        "# LIAT KONTAK\n",
        "def view_contacts():\n",
        "  if contacts:\n",
        "    print(\"\\n---Contacts---\")\n",
        "    for name, details in contacts.items():\n",
        "      print(f\"Name : {name}\")\n",
        "      print(f\"Phone : {details['phone']}\")\n",
        "      print(f\"Email : {details['email']}\")\n",
        "      print(\"\\n\")\n",
        "  else:\n",
        "    print(\"your contacts is empty\")\n",
        "    print(\"\\n\")\n",
        "\n",
        "#SEARCH CONTACT\n",
        "def search_contacts():\n",
        "  name = input(\"Eneter name to search: \")\n",
        "  if name in contacts:\n",
        "    print(f\"Name : {name}\")\n",
        "    print(f\"Phone : {details['phone']}\")\n",
        "    print(f\"Email : {details['email']}\")\n",
        "    print(\"\\n\")\n",
        "  else:\n",
        "    print(f\"{name} not found in contacts\")\n",
        "    print(\"\\n\")\n",
        "\n",
        "# EDIT CONTACT\n",
        "def edit_contacts():\n",
        "  name = input(\"Enter the name to edit: \")\n",
        "  if name in contacts:\n",
        "    phone =  input(\"Enter new phonen number: \")\n",
        "    email = input(\"Enter new email: \")\n",
        "    contacts[name] = {\"phone\" : phone, \"email\" : email}\n",
        "    print(f\"Contact {name} berhasil diedit\")\n",
        "    print(\"\\n\")\n",
        "  else:\n",
        "    print(f\"{name} tidak ada di kontak\")\n",
        "    print(\"\\n\")\n",
        "\n",
        "#DELETE CONTACT\n",
        "def delete_contacts():\n",
        "  name = input(\"Masukkan nama untuk dihapus: \")\n",
        "  if name in contacs:\n",
        "    del contacts[name]\n",
        "    print(f\"{name} nama berhasil di hapus dari kontak\")\n",
        "    print(\"\\n\")\n",
        "  else:\n",
        "    print(f\"{name} tidak di temukan\")\n",
        "    print(\"\\n\")\n",
        "\n",
        "#MAIN PROGRAM\n",
        "while True:\n",
        "  show_menu()\n",
        "  choice = input(\"masukkan pilihanmu (1-6): \")\n",
        "\n",
        "  if choice == \"1\":\n",
        "    add_contact()\n",
        "  elif choice == \"2\":\n",
        "    view_contacts()\n",
        "  elif choice == \"3\":\n",
        "    search_contacts()\n",
        "  elif choice == \"4\":\n",
        "    edit_contacts()\n",
        "  elif choice == \"5\":\n",
        "    delete_contacts()\n",
        "  elif choice == \"6\":\n",
        "    print(\"Terima kasih sudah menggunakan aplikasi kami\")\n",
        "    print(\"\\n\")\n",
        "    break\n",
        "  else:\n",
        "    print(\"pilihan tidak tersedia\")\n",
        "    print(\"\\n\")"
      ],
      "metadata": {
        "id": "f0pywefB3ni-",
        "colab": {
          "base_uri": "https://localhost:8080/",
          "height": 460
        },
        "outputId": "c7642ff7-1799-4e04-a288-bf8027a1ccb2"
      },
      "execution_count": 2,
      "outputs": [
        {
          "output_type": "stream",
          "name": "stdout",
          "text": [
            "1. Add Contact\n",
            "2. View Contacts\n",
            "3. Search Contacts\n",
            "4. Edit Contacts\n",
            "5. Delete Contacts\n",
            "6. EXit\n"
          ]
        },
        {
          "output_type": "error",
          "ename": "KeyboardInterrupt",
          "evalue": "Interrupted by user",
          "traceback": [
            "\u001b[0;31m---------------------------------------------------------------------------\u001b[0m",
            "\u001b[0;31mKeyboardInterrupt\u001b[0m                         Traceback (most recent call last)",
            "\u001b[0;32m/tmp/ipython-input-4130735584.py\u001b[0m in \u001b[0;36m<cell line: 0>\u001b[0;34m()\u001b[0m\n\u001b[1;32m     71\u001b[0m \u001b[0;32mwhile\u001b[0m \u001b[0;32mTrue\u001b[0m\u001b[0;34m:\u001b[0m\u001b[0;34m\u001b[0m\u001b[0;34m\u001b[0m\u001b[0m\n\u001b[1;32m     72\u001b[0m   \u001b[0mshow_menu\u001b[0m\u001b[0;34m(\u001b[0m\u001b[0;34m)\u001b[0m\u001b[0;34m\u001b[0m\u001b[0;34m\u001b[0m\u001b[0m\n\u001b[0;32m---> 73\u001b[0;31m   \u001b[0mchoice\u001b[0m \u001b[0;34m=\u001b[0m \u001b[0minput\u001b[0m\u001b[0;34m(\u001b[0m\u001b[0;34m\"masukkan pilihanmu (1-6): \"\u001b[0m\u001b[0;34m)\u001b[0m\u001b[0;34m\u001b[0m\u001b[0;34m\u001b[0m\u001b[0m\n\u001b[0m\u001b[1;32m     74\u001b[0m \u001b[0;34m\u001b[0m\u001b[0m\n\u001b[1;32m     75\u001b[0m   \u001b[0;32mif\u001b[0m \u001b[0mchoice\u001b[0m \u001b[0;34m==\u001b[0m \u001b[0;34m\"1\"\u001b[0m\u001b[0;34m:\u001b[0m\u001b[0;34m\u001b[0m\u001b[0;34m\u001b[0m\u001b[0m\n",
            "\u001b[0;32m/usr/local/lib/python3.12/dist-packages/ipykernel/kernelbase.py\u001b[0m in \u001b[0;36mraw_input\u001b[0;34m(self, prompt)\u001b[0m\n\u001b[1;32m   1175\u001b[0m                 \u001b[0;34m\"raw_input was called, but this frontend does not support input requests.\"\u001b[0m\u001b[0;34m\u001b[0m\u001b[0;34m\u001b[0m\u001b[0m\n\u001b[1;32m   1176\u001b[0m             )\n\u001b[0;32m-> 1177\u001b[0;31m         return self._input_request(\n\u001b[0m\u001b[1;32m   1178\u001b[0m             \u001b[0mstr\u001b[0m\u001b[0;34m(\u001b[0m\u001b[0mprompt\u001b[0m\u001b[0;34m)\u001b[0m\u001b[0;34m,\u001b[0m\u001b[0;34m\u001b[0m\u001b[0;34m\u001b[0m\u001b[0m\n\u001b[1;32m   1179\u001b[0m             \u001b[0mself\u001b[0m\u001b[0;34m.\u001b[0m\u001b[0m_parent_ident\u001b[0m\u001b[0;34m[\u001b[0m\u001b[0;34m\"shell\"\u001b[0m\u001b[0;34m]\u001b[0m\u001b[0;34m,\u001b[0m\u001b[0;34m\u001b[0m\u001b[0;34m\u001b[0m\u001b[0m\n",
            "\u001b[0;32m/usr/local/lib/python3.12/dist-packages/ipykernel/kernelbase.py\u001b[0m in \u001b[0;36m_input_request\u001b[0;34m(self, prompt, ident, parent, password)\u001b[0m\n\u001b[1;32m   1217\u001b[0m             \u001b[0;32mexcept\u001b[0m \u001b[0mKeyboardInterrupt\u001b[0m\u001b[0;34m:\u001b[0m\u001b[0;34m\u001b[0m\u001b[0;34m\u001b[0m\u001b[0m\n\u001b[1;32m   1218\u001b[0m                 \u001b[0;31m# re-raise KeyboardInterrupt, to truncate traceback\u001b[0m\u001b[0;34m\u001b[0m\u001b[0;34m\u001b[0m\u001b[0m\n\u001b[0;32m-> 1219\u001b[0;31m                 \u001b[0;32mraise\u001b[0m \u001b[0mKeyboardInterrupt\u001b[0m\u001b[0;34m(\u001b[0m\u001b[0;34m\"Interrupted by user\"\u001b[0m\u001b[0;34m)\u001b[0m \u001b[0;32mfrom\u001b[0m \u001b[0;32mNone\u001b[0m\u001b[0;34m\u001b[0m\u001b[0;34m\u001b[0m\u001b[0m\n\u001b[0m\u001b[1;32m   1220\u001b[0m             \u001b[0;32mexcept\u001b[0m \u001b[0mException\u001b[0m\u001b[0;34m:\u001b[0m\u001b[0;34m\u001b[0m\u001b[0;34m\u001b[0m\u001b[0m\n\u001b[1;32m   1221\u001b[0m                 \u001b[0mself\u001b[0m\u001b[0;34m.\u001b[0m\u001b[0mlog\u001b[0m\u001b[0;34m.\u001b[0m\u001b[0mwarning\u001b[0m\u001b[0;34m(\u001b[0m\u001b[0;34m\"Invalid Message:\"\u001b[0m\u001b[0;34m,\u001b[0m \u001b[0mexc_info\u001b[0m\u001b[0;34m=\u001b[0m\u001b[0;32mTrue\u001b[0m\u001b[0;34m)\u001b[0m\u001b[0;34m\u001b[0m\u001b[0;34m\u001b[0m\u001b[0m\n",
            "\u001b[0;31mKeyboardInterrupt\u001b[0m: Interrupted by user"
          ]
        }
      ]
    },
    {
      "cell_type": "code",
      "source": [
        "#recipe cheker\n",
        "\n",
        "#step 1\n",
        "recipe_ingredients = {\"tepung\", \"gula\", \"mentega\", \"air\", \"garam\"}\n",
        "\n",
        "#step2\n",
        "user_input = input(\"masukkkan bahan yang kamu punya (dipisah dengan koma): \")\n",
        "user_ingredients = set(user_input.split(\", \"))\n",
        "\n",
        "#step3\n",
        "missing_ingredients = recipe_ingredients - user_ingredients\n",
        "extra_ingredients = user_ingredients - recipe_ingredients\n",
        "\n",
        "#step4\n",
        "\n",
        "if missing_ingredients:\n",
        "  print(f\"kamu memiliki bahan yang kurang yaitu: \",missing_ingredients)\n",
        "else:\n",
        "  print(f\"kamu tidak kekurangan bahan-bahan: \")\n",
        "\n",
        "if extra_ingredients:\n",
        "  print(f\"kamu memiliki bahan yang lebih yaitu: \",extra_ingredients)\n",
        "else:\n",
        "  print(f\"kamu tidak memiliki bahan yang lebih: \")"
      ],
      "metadata": {
        "id": "_ByPne94BP9L",
        "colab": {
          "base_uri": "https://localhost:8080/"
        },
        "outputId": "2868b4d7-e807-413f-d7f8-8e1b52003791"
      },
      "execution_count": 5,
      "outputs": [
        {
          "output_type": "stream",
          "name": "stdout",
          "text": [
            "masukkkan bahan yang kamu punya (dipisah dengan koma): tepung, air, botol, mentega, gelas\n",
            "kamu memiliki bahan yang kurang yaitu:  {'gula', 'garam'}\n",
            "kamu memiliki bahan yang lebih yaitu:  {'gelas', 'botol'}\n"
          ]
        }
      ]
    }
  ],
  "metadata": {
    "colab": {
      "provenance": [],
      "authorship_tag": "ABX9TyNTZSMdDDpjsk4HxmFXHx9Z",
      "include_colab_link": true
    },
    "kernelspec": {
      "display_name": "Python 3",
      "name": "python3"
    },
    "language_info": {
      "name": "python"
    }
  },
  "nbformat": 4,
  "nbformat_minor": 0
}